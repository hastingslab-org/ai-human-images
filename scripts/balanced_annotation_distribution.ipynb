{
 "cells": [
  {
   "cell_type": "code",
   "execution_count": 25,
   "metadata": {},
   "outputs": [],
   "source": [
    "import pandas as pd\n",
    "import random\n",
    "from itertools import cycle"
   ]
  },
  {
   "cell_type": "code",
   "execution_count": 26,
   "metadata": {},
   "outputs": [],
   "source": [
    "# Set up the model, prompt, and annotator lists\n",
    "models = ['DALL-E3', 'StableCascade', 'SDXL']\n",
    "prompts = ['wrestling in arena', 'physician examining patient', 'person jogging', 'people eating pizza', \n",
    "           'old couple in sauna', 'mother or father holding baby', 'five people sunbathing on beach', \n",
    "           'five people playing volleyball', 'couple hugging', 'athlete performing salto']\n",
    "pic_nums = [f\"{i:02d}\" for i in range(1, 9)]  # Generates numbers from 01 to 08\n",
    "annotators = ['Annotator1', 'Annotator2', 'Annotator3', 'Annotator4']"
   ]
  },
  {
   "cell_type": "code",
   "execution_count": 27,
   "metadata": {},
   "outputs": [
    {
     "name": "stdout",
     "output_type": "stream",
     "text": [
      "Total amount of images in the pool: 240\n"
     ]
    }
   ],
   "source": [
    "# Initialize the image pool\n",
    "image_pool = [(model, prompt, pic_num) for model in models for prompt in prompts for pic_num in pic_nums]\n",
    "image_pool = [f\"{model.lower()}_{prompt.lower()}_{pic_num}.jpg\" for model, prompt, pic_num in image_pool]\n",
    "\n",
    "# Print the number of images in the pool to check\n",
    "print(f\"Total amount of images in the pool: {len(image_pool)}\")"
   ]
  },
  {
   "cell_type": "code",
   "execution_count": 28,
   "metadata": {},
   "outputs": [],
   "source": [
    "# Shuffle the image pool to randomize the order\n",
    "random.shuffle(image_pool)"
   ]
  },
  {
   "cell_type": "code",
   "execution_count": 29,
   "metadata": {},
   "outputs": [
    {
     "name": "stdout",
     "output_type": "stream",
     "text": [
      "Total amount of double annotation images: 60\n",
      "Total amount of double annotation images per model: stablecascade    20\n",
      "dall-e3          20\n",
      "sdxl             20\n",
      "Name: model, dtype: int64\n",
      "Total amount of double annotation images per prompt: couple hugging                     6\n",
      "physician examining patient        6\n",
      "mother or father holding baby      6\n",
      "athlete performing salto           6\n",
      "five people playing volleyball     6\n",
      "five people sunbathing on beach    6\n",
      "person jogging                     6\n",
      "old couple in sauna                6\n",
      "people eating pizza                6\n",
      "wrestling in arena                 6\n",
      "Name: image, dtype: int64\n"
     ]
    }
   ],
   "source": [
    "# Select double annotation images: randomly select 2 images per model-prompt pair, in total 60 images (3 models * 10 prompts * 2 images)\n",
    "double_annot_images = []\n",
    "for model in models:\n",
    "    for prompt in prompts:\n",
    "        model_prompt_images = [image for image in image_pool if image.startswith(f\"{model.lower()}_{prompt.lower()}_\")]\n",
    "        # randomly select 2 images for double annotation\n",
    "        random_images = random.sample(model_prompt_images, 2)\n",
    "        double_annot_images.extend(random_images)\n",
    "\n",
    "# Shuffle the list of double annotation images\n",
    "random.shuffle(double_annot_images)\n",
    "\n",
    "# Print the number of double annotation per model/prompt to check the distribution balance\n",
    "double_annot_images_df = pd.DataFrame(double_annot_images, columns=['image'])\n",
    "double_annot_images_df['model'] = double_annot_images_df['image'].apply(lambda x: x.split('_')[0])\n",
    "print(f\"Total amount of double annotation images: {len(double_annot_images)}\")\n",
    "print(f\"Total amount of double annotation images per model: {double_annot_images_df['model'].value_counts()}\")\n",
    "print(f\"Total amount of double annotation images per prompt: {double_annot_images_df['image'].apply(lambda x: x.split('_')[1]).value_counts()}\")"
   ]
  },
  {
   "cell_type": "code",
   "execution_count": 30,
   "metadata": {},
   "outputs": [],
   "source": [
    "# Assign images for double annotation to annotators\n",
    "double_annotator_images_variants = {annotator: [] for annotator in annotators}\n",
    "double_annot_images_variants = [f\"{image[:-4]}_{i}.jpg\" for image in double_annot_images for i in range(2)]\n",
    "random.shuffle(double_annot_images_variants)"
   ]
  },
  {
   "cell_type": "code",
   "execution_count": 31,
   "metadata": {},
   "outputs": [],
   "source": [
    "# Helper function to count how many images from each model an annotator has\n",
    "def count_model_images(annotator, model):\n",
    "    return sum(image.startswith(model.lower()) for image in double_annotator_images_variants[annotator])\n",
    "\n",
    "# Assign double annotation images ensuring balanced distribution\n",
    "for model in models:\n",
    "    images = [image for image in double_annot_images_variants if image.startswith(f\"{model.lower()}_\")]\n",
    "    annotator_cycle = cycle(annotators)\n",
    "    image_pairs = [images[i:i+2] for i in range(0, len(images), 2)]\n",
    "    for image_pair in image_pairs:\n",
    "        for image in image_pair:\n",
    "            image_base = image[:-6]\n",
    "            while True:\n",
    "                annotator = next(annotator_cycle)\n",
    "                if count_model_images(annotator, model) < 10 and not any([annotator_image.startswith(image_base) for annotator_image in double_annotator_images_variants[annotator]]):\n",
    "                    double_annotator_images_variants[annotator].append(image)\n",
    "                    double_annot_images_variants.remove(image)\n",
    "                    break"
   ]
  },
  {
   "cell_type": "code",
   "execution_count": 32,
   "metadata": {},
   "outputs": [
    {
     "name": "stdout",
     "output_type": "stream",
     "text": [
      "Annotator Annotator1 has 30 double-annotated images.\n",
      "Annotator Annotator2 has 30 double-annotated images.\n",
      "Annotator Annotator3 has 30 double-annotated images.\n",
      "Annotator Annotator4 has 30 double-annotated images.\n",
      "Annotator Annotator1 has 10 DALL-E3 images.\n",
      "Annotator Annotator1 has 10 StableCascade images.\n",
      "Annotator Annotator1 has 10 SDXL images.\n",
      "Annotator Annotator2 has 10 DALL-E3 images.\n",
      "Annotator Annotator2 has 10 StableCascade images.\n",
      "Annotator Annotator2 has 10 SDXL images.\n",
      "Annotator Annotator3 has 10 DALL-E3 images.\n",
      "Annotator Annotator3 has 10 StableCascade images.\n",
      "Annotator Annotator3 has 10 SDXL images.\n",
      "Annotator Annotator4 has 10 DALL-E3 images.\n",
      "Annotator Annotator4 has 10 StableCascade images.\n",
      "Annotator Annotator4 has 10 SDXL images.\n"
     ]
    }
   ],
   "source": [
    "# Print the amount of double-annotated images per annotator to check, each annotator should have 30 images\n",
    "for annotator in annotators:\n",
    "    print(f\"Annotator {annotator} has {len(double_annotator_images_variants[annotator])} double-annotated images.\")\n",
    "\n",
    "# Print the amount of double-annotated images per anntator per model to check, each annotator should have 10 images per model\n",
    "for annotator in annotators:\n",
    "    print(f\"Annotator {annotator} has {len([image for image in double_annotator_images_variants[annotator] if image.startswith('dall-e3')])} DALL-E3 images.\")\n",
    "    print(f\"Annotator {annotator} has {len([image for image in double_annotator_images_variants[annotator] if image.startswith('stablecascade')])} StableCascade images.\")\n",
    "    print(f\"Annotator {annotator} has {len([image for image in double_annotator_images_variants[annotator] if image.startswith('sdxl')])} SDXL images.\")"
   ]
  },
  {
   "cell_type": "code",
   "execution_count": 33,
   "metadata": {},
   "outputs": [
    {
     "name": "stdout",
     "output_type": "stream",
     "text": [
      "Number of images remaining in the pool  for single annotation: 180\n"
     ]
    }
   ],
   "source": [
    "# Remove the images for double annotation from the image pool\n",
    "image_pool = [image for image in image_pool if image not in double_annot_images]\n",
    "# Print the number of images in the pool after removing the double annotation images, these images will be used for single annotation\n",
    "print(f\"Number of images remaining in the pool  for single annotation: {len(image_pool)}\")"
   ]
  },
  {
   "cell_type": "code",
   "execution_count": 34,
   "metadata": {},
   "outputs": [],
   "source": [
    "# Assign the remaining images to annotators for single annotation\n",
    "single_annots = {annotator: [] for annotator in annotators}\n",
    "for annotator in annotators:\n",
    "    for i in range(3):\n",
    "        model_images = [image for image in image_pool if image.startswith(f\"{models[i].lower()}_\")]\n",
    "        random_images = random.sample(model_images, 15)\n",
    "        single_annots[annotator].extend(random_images)\n",
    "        image_pool = [image for image in image_pool if image not in random_images]"
   ]
  },
  {
   "cell_type": "code",
   "execution_count": 35,
   "metadata": {},
   "outputs": [
    {
     "name": "stdout",
     "output_type": "stream",
     "text": [
      "Total amount of single annotation images: 180\n",
      "Total amount of single annotation images per model: dall-e3          60\n",
      "stablecascade    60\n",
      "sdxl             60\n",
      "Name: model, dtype: int64\n",
      "Total amount of single annotation images per annotator: Annotator1    45\n",
      "Annotator2    45\n",
      "Annotator3    45\n",
      "Annotator4    45\n",
      "Name: annotator, dtype: int64\n",
      "Total amount of single annotation images per prompt: athlete performing salto           18\n",
      "person jogging                     18\n",
      "five people sunbathing on beach    18\n",
      "mother or father holding baby      18\n",
      "people eating pizza                18\n",
      "couple hugging                     18\n",
      "physician examining patient        18\n",
      "five people playing volleyball     18\n",
      "wrestling in arena                 18\n",
      "old couple in sauna                18\n",
      "Name: image, dtype: int64\n",
      "Total amount of single annotation images per model and prompt: model          image                          \n",
      "dall-e3        athlete performing salto           6\n",
      "               couple hugging                     6\n",
      "               five people playing volleyball     6\n",
      "               five people sunbathing on beach    6\n",
      "               mother or father holding baby      6\n",
      "               old couple in sauna                6\n",
      "               people eating pizza                6\n",
      "               person jogging                     6\n",
      "               physician examining patient        6\n",
      "               wrestling in arena                 6\n",
      "sdxl           athlete performing salto           6\n",
      "               couple hugging                     6\n",
      "               five people playing volleyball     6\n",
      "               five people sunbathing on beach    6\n",
      "               mother or father holding baby      6\n",
      "               old couple in sauna                6\n",
      "               people eating pizza                6\n",
      "               person jogging                     6\n",
      "               physician examining patient        6\n",
      "               wrestling in arena                 6\n",
      "stablecascade  athlete performing salto           6\n",
      "               couple hugging                     6\n",
      "               five people playing volleyball     6\n",
      "               five people sunbathing on beach    6\n",
      "               mother or father holding baby      6\n",
      "               old couple in sauna                6\n",
      "               people eating pizza                6\n",
      "               person jogging                     6\n",
      "               physician examining patient        6\n",
      "               wrestling in arena                 6\n",
      "dtype: int64\n",
      "Total amount of single annotation images per model and annotator: model          annotator \n",
      "dall-e3        Annotator1    15\n",
      "               Annotator2    15\n",
      "               Annotator3    15\n",
      "               Annotator4    15\n",
      "sdxl           Annotator1    15\n",
      "               Annotator2    15\n",
      "               Annotator3    15\n",
      "               Annotator4    15\n",
      "stablecascade  Annotator1    15\n",
      "               Annotator2    15\n",
      "               Annotator3    15\n",
      "               Annotator4    15\n",
      "dtype: int64\n",
      "Total amount of single annotation images per prompt and annotator: image                            annotator \n",
      "athlete performing salto         Annotator1    7\n",
      "                                 Annotator2    5\n",
      "                                 Annotator3    1\n",
      "                                 Annotator4    5\n",
      "couple hugging                   Annotator1    6\n",
      "                                 Annotator2    4\n",
      "                                 Annotator3    4\n",
      "                                 Annotator4    4\n",
      "five people playing volleyball   Annotator1    4\n",
      "                                 Annotator2    6\n",
      "                                 Annotator3    3\n",
      "                                 Annotator4    5\n",
      "five people sunbathing on beach  Annotator1    3\n",
      "                                 Annotator2    3\n",
      "                                 Annotator3    8\n",
      "                                 Annotator4    4\n",
      "mother or father holding baby    Annotator1    6\n",
      "                                 Annotator2    4\n",
      "                                 Annotator3    6\n",
      "                                 Annotator4    2\n",
      "old couple in sauna              Annotator1    2\n",
      "                                 Annotator2    6\n",
      "                                 Annotator3    3\n",
      "                                 Annotator4    7\n",
      "people eating pizza              Annotator1    5\n",
      "                                 Annotator2    5\n",
      "                                 Annotator3    3\n",
      "                                 Annotator4    5\n",
      "person jogging                   Annotator1    6\n",
      "                                 Annotator2    3\n",
      "                                 Annotator3    6\n",
      "                                 Annotator4    3\n",
      "physician examining patient      Annotator1    3\n",
      "                                 Annotator2    5\n",
      "                                 Annotator3    5\n",
      "                                 Annotator4    5\n",
      "wrestling in arena               Annotator1    3\n",
      "                                 Annotator2    4\n",
      "                                 Annotator3    6\n",
      "                                 Annotator4    5\n",
      "dtype: int64\n"
     ]
    }
   ],
   "source": [
    "# Print the amount of single-annotated images per model AND/OR per promtp AND/OR per annotator to check the distribution balance\n",
    "single_annots_df = pd.DataFrame([(annotator, image) for annotator, images in single_annots.items() for image in images], columns=['annotator', 'image'])\n",
    "single_annots_df['model'] = single_annots_df['image'].apply(lambda x: x.split('_')[0])\n",
    "print(f\"Total amount of single annotation images: {len(single_annots_df)}\")\n",
    "print(f\"Total amount of single annotation images per model: {single_annots_df['model'].value_counts()}\")\n",
    "print(f\"Total amount of single annotation images per annotator: {single_annots_df['annotator'].value_counts()}\")\n",
    "print(f\"Total amount of single annotation images per prompt: {single_annots_df['image'].apply(lambda x: x.split('_')[1]).value_counts()}\")\n",
    "print(f\"Total amount of single annotation images per model and prompt: {single_annots_df.groupby(['model', single_annots_df['image'].apply(lambda x: x.split('_')[1])]).size()}\")\n",
    "print(f\"Total amount of single annotation images per model and annotator: {single_annots_df.groupby(['model', 'annotator']).size()}\")\n",
    "print(f\"Total amount of single annotation images per prompt and annotator: {single_annots_df.groupby([single_annots_df['image'].apply(lambda x: x.split('_')[1]), 'annotator']).size()}\")"
   ]
  },
  {
   "cell_type": "code",
   "execution_count": 36,
   "metadata": {},
   "outputs": [],
   "source": [
    "# Add the double annotation images to the final list\n",
    "for annotator, images in double_annotator_images_variants.items():\n",
    "    for image in images:\n",
    "        image_name = image[:-6]\n",
    "        model = image_name.split('_')[0]\n",
    "        prompt = image_name.split('_')[1]\n",
    "        pic_num = image_name.split('_')[2]\n",
    "        df = single_annots[annotator].append(f\"{model}_{prompt}_{pic_num}.jpg\")"
   ]
  },
  {
   "cell_type": "code",
   "execution_count": 37,
   "metadata": {},
   "outputs": [
    {
     "name": "stdout",
     "output_type": "stream",
     "text": [
      "Total amount of images: 300\n",
      "Total amount of images per model: dall-e3          100\n",
      "stablecascade    100\n",
      "sdxl             100\n",
      "Name: model, dtype: int64\n",
      "Total amount of images per annotator: Annotator1    75\n",
      "Annotator2    75\n",
      "Annotator3    75\n",
      "Annotator4    75\n",
      "Name: annotator, dtype: int64\n",
      "Total amount of images per prompt: athlete performing salto           30\n",
      "person jogging                     30\n",
      "five people sunbathing on beach    30\n",
      "mother or father holding baby      30\n",
      "people eating pizza                30\n",
      "couple hugging                     30\n",
      "physician examining patient        30\n",
      "five people playing volleyball     30\n",
      "wrestling in arena                 30\n",
      "old couple in sauna                30\n",
      "Name: image, dtype: int64\n",
      "Total amount of images per model and prompt: model          image                          \n",
      "dall-e3        athlete performing salto           10\n",
      "               couple hugging                     10\n",
      "               five people playing volleyball     10\n",
      "               five people sunbathing on beach    10\n",
      "               mother or father holding baby      10\n",
      "               old couple in sauna                10\n",
      "               people eating pizza                10\n",
      "               person jogging                     10\n",
      "               physician examining patient        10\n",
      "               wrestling in arena                 10\n",
      "sdxl           athlete performing salto           10\n",
      "               couple hugging                     10\n",
      "               five people playing volleyball     10\n",
      "               five people sunbathing on beach    10\n",
      "               mother or father holding baby      10\n",
      "               old couple in sauna                10\n",
      "               people eating pizza                10\n",
      "               person jogging                     10\n",
      "               physician examining patient        10\n",
      "               wrestling in arena                 10\n",
      "stablecascade  athlete performing salto           10\n",
      "               couple hugging                     10\n",
      "               five people playing volleyball     10\n",
      "               five people sunbathing on beach    10\n",
      "               mother or father holding baby      10\n",
      "               old couple in sauna                10\n",
      "               people eating pizza                10\n",
      "               person jogging                     10\n",
      "               physician examining patient        10\n",
      "               wrestling in arena                 10\n",
      "dtype: int64\n",
      "Total amount of images per model and annotator: model          annotator \n",
      "dall-e3        Annotator1    25\n",
      "               Annotator2    25\n",
      "               Annotator3    25\n",
      "               Annotator4    25\n",
      "sdxl           Annotator1    25\n",
      "               Annotator2    25\n",
      "               Annotator3    25\n",
      "               Annotator4    25\n",
      "stablecascade  Annotator1    25\n",
      "               Annotator2    25\n",
      "               Annotator3    25\n",
      "               Annotator4    25\n",
      "dtype: int64\n",
      "Total amount of images per prompt and annotator: image                            annotator \n",
      "athlete performing salto         Annotator1    12\n",
      "                                 Annotator2     6\n",
      "                                 Annotator3     4\n",
      "                                 Annotator4     8\n",
      "couple hugging                   Annotator1     8\n",
      "                                 Annotator2     6\n",
      "                                 Annotator3     8\n",
      "                                 Annotator4     8\n",
      "five people playing volleyball   Annotator1     6\n",
      "                                 Annotator2    11\n",
      "                                 Annotator3     5\n",
      "                                 Annotator4     8\n",
      "five people sunbathing on beach  Annotator1     5\n",
      "                                 Annotator2     5\n",
      "                                 Annotator3    12\n",
      "                                 Annotator4     8\n",
      "mother or father holding baby    Annotator1     9\n",
      "                                 Annotator2     9\n",
      "                                 Annotator3     9\n",
      "                                 Annotator4     3\n",
      "old couple in sauna              Annotator1     5\n",
      "                                 Annotator2    10\n",
      "                                 Annotator3     5\n",
      "                                 Annotator4    10\n",
      "people eating pizza              Annotator1     9\n",
      "                                 Annotator2     6\n",
      "                                 Annotator3     7\n",
      "                                 Annotator4     8\n",
      "person jogging                   Annotator1     8\n",
      "                                 Annotator2     6\n",
      "                                 Annotator3    10\n",
      "                                 Annotator4     6\n",
      "physician examining patient      Annotator1     8\n",
      "                                 Annotator2     9\n",
      "                                 Annotator3     6\n",
      "                                 Annotator4     7\n",
      "wrestling in arena               Annotator1     5\n",
      "                                 Annotator2     7\n",
      "                                 Annotator3     9\n",
      "                                 Annotator4     9\n",
      "dtype: int64\n"
     ]
    }
   ],
   "source": [
    "# Print the amount of images per model AND/OR per prompt AND/OR per annotator to check the distribution balance\n",
    "final_images_df = pd.DataFrame([(annotator, image) for annotator, images in single_annots.items() for image in images], columns=['annotator', 'image'])\n",
    "final_images_df['model'] = final_images_df['image'].apply(lambda x: x.split('_')[0])\n",
    "print(f\"Total amount of images: {len(final_images_df)}\")\n",
    "print(f\"Total amount of images per model: {final_images_df['model'].value_counts()}\")\n",
    "print(f\"Total amount of images per annotator: {final_images_df['annotator'].value_counts()}\")\n",
    "print(f\"Total amount of images per prompt: {final_images_df['image'].apply(lambda x: x.split('_')[1]).value_counts()}\")\n",
    "print(f\"Total amount of images per model and prompt: {final_images_df.groupby(['model', final_images_df['image'].apply(lambda x: x.split('_')[1])]).size()}\")\n",
    "print(f\"Total amount of images per model and annotator: {final_images_df.groupby(['model', 'annotator']).size()}\")\n",
    "print(f\"Total amount of images per prompt and annotator: {final_images_df.groupby([final_images_df['image'].apply(lambda x: x.split('_')[1]), 'annotator']).size()}\")"
   ]
  },
  {
   "cell_type": "code",
   "execution_count": 38,
   "metadata": {},
   "outputs": [
    {
     "name": "stdout",
     "output_type": "stream",
     "text": [
      "Final list of images saved to 'final_images.csv' file.\n"
     ]
    }
   ],
   "source": [
    "# Save the final list of images to a CSV file\n",
    "final_images_df.to_csv('final_images.csv', index=False)\n",
    "print(\"Final list of images saved to 'final_images.csv' file.\")"
   ]
  }
 ],
 "metadata": {
  "kernelspec": {
   "display_name": "pytorch",
   "language": "python",
   "name": "python3"
  },
  "language_info": {
   "codemirror_mode": {
    "name": "ipython",
    "version": 3
   },
   "file_extension": ".py",
   "mimetype": "text/x-python",
   "name": "python",
   "nbconvert_exporter": "python",
   "pygments_lexer": "ipython3",
   "version": "3.10.10"
  }
 },
 "nbformat": 4,
 "nbformat_minor": 2
}
